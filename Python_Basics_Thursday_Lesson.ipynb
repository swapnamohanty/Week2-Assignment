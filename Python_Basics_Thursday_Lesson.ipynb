{
 "cells": [
  {
   "attachments": {},
   "cell_type": "markdown",
   "metadata": {
    "id": "giAbN1rzE1Ai"
   },
   "source": [
    "# Coding Temple's Data Analytics Program                                        \n",
    "---\n",
    "## Python Basics Day 4 : Object-Oriented-Programming (OOP)\n",
    "---"
   ]
  },
  {
   "attachments": {},
   "cell_type": "markdown",
   "metadata": {
    "id": "gEt2hxqGE1An"
   },
   "source": [
    "## Tasks Today:\n",
    "\n",
    "   \n",
    "\n",
    "1) <b>Creating a Class (Initializing/Declaring)</b> <br>\n",
    "2) <b>Using a Class (Instantiating)</b> <br>\n",
    " &nbsp;&nbsp;&nbsp;&nbsp; a) Creating One Instance <br>\n",
    " &nbsp;&nbsp;&nbsp;&nbsp; b) Creating Multiple Instances <br>\n",
    " &nbsp;&nbsp;&nbsp;&nbsp; c) In-Class Exercise #1 - Create a Class 'Car' and instantiate three different makes of cars <br>\n",
    "3) <b>The \\__init\\__() Method</b> <br>\n",
    " &nbsp;&nbsp;&nbsp;&nbsp; a) The 'self' Attribute <br>\n",
    "4) <b>Class Attributes</b> <br>\n",
    " &nbsp;&nbsp;&nbsp;&nbsp; a) Initializing Attributes <br>\n",
    " &nbsp;&nbsp;&nbsp;&nbsp; b) Setting an Attribute Outside of the \\__init\\__() Method <br>\n",
    " &nbsp;&nbsp;&nbsp;&nbsp; c) Setting Defaults for Attributes <br>\n",
    " &nbsp;&nbsp;&nbsp;&nbsp; d) Accessing Class Attributes <br>\n",
    " &nbsp;&nbsp;&nbsp;&nbsp; e) Changing Class Attributes <br>\n",
    " &nbsp;&nbsp;&nbsp;&nbsp; f) In-Class Exercise #2 - Add a color and wheels attribute to your 'Car' class <br>\n",
    "5) <b>Class Methods</b> <br>\n",
    " &nbsp;&nbsp;&nbsp;&nbsp; a) Creating <br>\n",
    " &nbsp;&nbsp;&nbsp;&nbsp; b) Calling <br>\n",
    " &nbsp;&nbsp;&nbsp;&nbsp; c) Modifying an Attribute's Value Through a Method <br>\n",
    " &nbsp;&nbsp;&nbsp;&nbsp; d) Incrementing an Attribute's Value Through a Method <br>\n",
    " &nbsp;&nbsp;&nbsp;&nbsp; e) In-Class Exercise #3 - Add a method that prints the cars color and wheel number, then call them <br>"
   ]
  },
  {
   "cell_type": "markdown",
   "metadata": {
    "id": "qgEWxaC0E1Ao"
   },
   "source": [
    "## Creating a Class (Initializing/Declaring)\n",
    "<p>When creating a class, function, or even a variable you are initializing that object. Initializing and Declaring occur at the same time in Python, whereas in lower level languages you have to declare an object before initializing it. This is the first step in the process of using a class.</p>"
   ]
  },
  {
   "cell_type": "code",
   "execution_count": 4,
   "metadata": {
    "id": "KSw6qoU4E1Ap"
   },
   "outputs": [],
   "source": [
    "class CarClass:\n",
    "    wheels = 4\n",
    "    color = 'blue'\n",
    "    \n",
    "    def change_color(self):\n",
    "        color = 'green'\n",
    "    "
   ]
  },
  {
   "cell_type": "markdown",
   "metadata": {
    "id": "Y0lj3nB3E1Aq"
   },
   "source": [
    "## Using a Class (Instantiating)\n",
    "<p>The process of creating a class is called <i>Instantiating</i>. Each time you create a variable of that type of class, it is referred to as an <i>Instance</i> of that class. This is the second step in the process of using a class.</p>"
   ]
  },
  {
   "cell_type": "markdown",
   "metadata": {
    "id": "vc-gH2E1E1Ar"
   },
   "source": [
    "##### Creating One Instance"
   ]
  },
  {
   "cell_type": "code",
   "execution_count": 5,
   "metadata": {
    "id": "rxPg5dy9E1As"
   },
   "outputs": [
    {
     "name": "stdout",
     "output_type": "stream",
     "text": [
      "blue\n",
      "4\n"
     ]
    }
   ],
   "source": [
    "ford = CarClass()\n",
    "print(ford.color)\n",
    "print(ford.wheels)\n"
   ]
  },
  {
   "attachments": {},
   "cell_type": "markdown",
   "metadata": {},
   "source": [
    "#### Difference between a method/function and an attribute"
   ]
  },
  {
   "cell_type": "code",
   "execution_count": 7,
   "metadata": {},
   "outputs": [
    {
     "data": {
      "text/plain": [
       "4"
      ]
     },
     "execution_count": 7,
     "metadata": {},
     "output_type": "execute_result"
    }
   ],
   "source": [
    "# Known as an attribute\n",
    "# Access it with dot notation, however use no invoking parenthesis\n",
    "# Attribute is a describer of the class. \n",
    "ford.wheels\n",
    "ford.color"
   ]
  },
  {
   "cell_type": "code",
   "execution_count": 8,
   "metadata": {},
   "outputs": [
    {
     "data": {
      "text/plain": [
       "'blue'"
      ]
     },
     "execution_count": 8,
     "metadata": {},
     "output_type": "execute_result"
    }
   ],
   "source": [
    "# Method/function\n",
    "# Access it with dot notation, and invoking parenthesis\n",
    "# Each method and function within a class may call for different data.\n",
    "ford.change_color()\n",
    "ford.color"
   ]
  },
  {
   "cell_type": "markdown",
   "metadata": {
    "id": "mwkSVukCE1As"
   },
   "source": [
    "##### Creating Multiple Instances"
   ]
  },
  {
   "cell_type": "code",
   "execution_count": 12,
   "metadata": {
    "id": "J-NBGcc1E1At"
   },
   "outputs": [
    {
     "data": {
      "text/plain": [
       "'green'"
      ]
     },
     "execution_count": 12,
     "metadata": {},
     "output_type": "execute_result"
    }
   ],
   "source": [
    "chevy = CarClass()\n",
    "chevy.color = 'chartrues'\n",
    "honda = CarClass()\n",
    "porche = CarClass()\n",
    "\n",
    "porche.color = 'green'\n",
    "porche.color"
   ]
  },
  {
   "cell_type": "code",
   "execution_count": 14,
   "metadata": {},
   "outputs": [
    {
     "name": "stdout",
     "output_type": "stream",
     "text": [
      "chartrues\n",
      "blue\n"
     ]
    }
   ],
   "source": [
    "print(chevy.color)\n",
    "print(honda.color)"
   ]
  },
  {
   "cell_type": "markdown",
   "metadata": {
    "id": "orHPhAdCE1At"
   },
   "source": [
    "##### In-Class Exercise #1 - Create a Class 'Car' and Instantiate three different makes of cars"
   ]
  },
  {
   "cell_type": "code",
   "execution_count": 15,
   "metadata": {
    "id": "aSsTqQAFE1Au"
   },
   "outputs": [],
   "source": [
    "class Car:\n",
    "    transmission = 'auto'\n",
    "    color = 'white'\n",
    "    year = 2013\n",
    "    engine_type = 'gas'\n",
    "    \n",
    "honda_civic = Car()\n",
    "acura_integra = Car()\n",
    "chevy_silverado = Car()\n",
    "\n",
    "chevy_silverado.engine_type = 'diesel'\n",
    "honda_civic.year = 1994\n",
    "acura_integra.color = 'red'\n"
   ]
  },
  {
   "cell_type": "code",
   "execution_count": 19,
   "metadata": {},
   "outputs": [
    {
     "name": "stdout",
     "output_type": "stream",
     "text": [
      "1994\n"
     ]
    }
   ],
   "source": [
    "print(honda_civic.year)"
   ]
  },
  {
   "attachments": {},
   "cell_type": "markdown",
   "metadata": {},
   "source": [
    "#### Object ID's and Class Instantiations"
   ]
  },
  {
   "cell_type": "code",
   "execution_count": 18,
   "metadata": {},
   "outputs": [
    {
     "name": "stdout",
     "output_type": "stream",
     "text": [
      "<__main__.Car object at 0x000001E907549B70>\n",
      "<__main__.Car object at 0x000001E90754BBE0>\n"
     ]
    }
   ],
   "source": [
    "# Take a look at the object ID, and can see that\n",
    "# even instantiating multiple objects under the \n",
    "# same class, provides individual object ID's for each object.\n",
    "print(honda_civic)\n",
    "print(acura_integra)"
   ]
  },
  {
   "cell_type": "markdown",
   "metadata": {
    "id": "lJh0fFLME1Au"
   },
   "source": [
    "## The \\__init\\__() Method <br>\n",
    "<p>This method is used in almost every created class, and called only once upon the creation of the class instance. This method will initialize all variables needed for the object.</p>"
   ]
  },
  {
   "cell_type": "code",
   "execution_count": 20,
   "metadata": {
    "id": "ef5s6vbaE1Au"
   },
   "outputs": [
    {
     "name": "stdout",
     "output_type": "stream",
     "text": [
      "(4,)\n",
      "(6,)\n"
     ]
    }
   ],
   "source": [
    "class Car_2:\n",
    "    # Constant attribute\n",
    "    engine = '4.7L' # NO MATTER WHAT CAR I PUT IN, EACH WILL HAVE THIS VALUE (constant attribute)\n",
    "    def __init__(self, wheels, color):\n",
    "        self.wheels = wheels,\n",
    "        self.color = color\n",
    "        \n",
    "ford = Car_2(4, 'red')\n",
    "chevy = Car_2(6,'black')\n",
    "\n",
    "print(ford.wheels)\n",
    "print(chevy.wheels)"
   ]
  },
  {
   "cell_type": "markdown",
   "metadata": {
    "id": "YSCUixxTE1Av"
   },
   "source": [
    "##### The 'self' Attribute <br>\n",
    "<p>This attribute is required to keep track of specific instance's attributes. Without the self attribute, the program would not know how to reference or keep track of an instance's attributes.</p>"
   ]
  },
  {
   "cell_type": "code",
   "execution_count": 24,
   "metadata": {
    "id": "8rfFnKp3E1Av"
   },
   "outputs": [
    {
     "name": "stdout",
     "output_type": "stream",
     "text": [
      "(4,)\n",
      "(6,)\n",
      "\n",
      "\n",
      "4.7L\n",
      "4.7L\n"
     ]
    }
   ],
   "source": [
    "class Car_2():\n",
    "    # Constant attribute\n",
    "    engine = '4.7L' # NO MATTER WHAT CAR I PUT IN, EACH WILL HAVE THIS VALUE (constant attribute)\n",
    "    def __init__(self,wheels, color):\n",
    "        self.wheels = wheels,\n",
    "        self.color = color\n",
    "        \n",
    "ford = Car_2(4, 'red')\n",
    "chevy = Car_2(6,'black')\n",
    "\n",
    "print(ford.wheels)\n",
    "print(chevy.wheels)\n",
    "print('\\n')\n",
    "print(ford.engine)\n",
    "print(chevy.engine)"
   ]
  },
  {
   "cell_type": "markdown",
   "metadata": {
    "id": "FHAW6utmE1Av"
   },
   "source": [
    "## Class Attributes <br>\n",
    "<p>While variables are inside of a class, they are referred to as attributes and not variables. When someone says 'attribute' you know they're speaking about a class. Attributes can be initialized through the init method, or outside of it.</p>"
   ]
  },
  {
   "cell_type": "markdown",
   "metadata": {
    "id": "sf-B77pbE1Av"
   },
   "source": [
    "##### Initializing Attributes"
   ]
  },
  {
   "cell_type": "code",
   "execution_count": 30,
   "metadata": {
    "id": "D2L5_hVdE1Av"
   },
   "outputs": [
    {
     "name": "stdout",
     "output_type": "stream",
     "text": [
      "Before changing windup default: False\n",
      "After changing windup default: True\n",
      "\n",
      "\n",
      "Before changing num_arms default: 2\n",
      "After changing num_arms default: 6\n"
     ]
    }
   ],
   "source": [
    "kind_of_toy = 'robot'\n",
    "\n",
    "class Toy:\n",
    "    \"\"\" Toy class with four different available attributes\"\"\"\n",
    "    kind = 'robot' # Constant attribute = instantiate this class, every object will have this value\n",
    "    \n",
    "    def __init__(self, windup:bool=False, num_arms: int= 2, general_figure: str='humanoid'):\n",
    "        self.windup = windup\n",
    "        self.num_arms = num_arms\n",
    "        self.general_figure = general_figure\n",
    "\n",
    "print(f'Before changing windup default: {Toy().windup}')        \n",
    "print(f'After changing windup default: {Toy(windup=True, num_arms=6).windup}')\n",
    "print('\\n')\n",
    "print(f'Before changing num_arms default: {Toy().num_arms}')\n",
    "print(f'After changing num_arms default: {Toy(windup=True, num_arms=6).num_arms}')\n",
    "\n",
    "Toy()"
   ]
  },
  {
   "cell_type": "markdown",
   "metadata": {
    "id": "8k0rnG1dE1Av"
   },
   "source": [
    "##### Accessing Class Attributes"
   ]
  },
  {
   "cell_type": "code",
   "execution_count": 32,
   "metadata": {
    "id": "_PKUR78BE1Av",
    "scrolled": true
   },
   "outputs": [
    {
     "name": "stdout",
     "output_type": "stream",
     "text": [
      "alienoid\n"
     ]
    }
   ],
   "source": [
    "# We access different attributes of the class using dot notation (.)\n",
    "# No invoking parenthesis around class attributes when accessing\n",
    "# We can change the values for them when accessed\n",
    "# We can view the values for each\n",
    "toy = Toy()\n",
    "toy.general_figure = 'alienoid'\n",
    "print(f'{toy.general_figure}')"
   ]
  },
  {
   "cell_type": "markdown",
   "metadata": {
    "id": "0LG1jwWcE1Aw"
   },
   "source": [
    "##### Setting Defaults for Attributes"
   ]
  },
  {
   "attachments": {},
   "cell_type": "markdown",
   "metadata": {},
   "source": [
    "##### **INIT STANDS FOR INITIALIZATION!**\n",
    "When we call the class, we end up having to provide the values for the attributes of the init function. Which means, that this run AS SOON as we call the class"
   ]
  },
  {
   "cell_type": "code",
   "execution_count": 38,
   "metadata": {
    "id": "jz0KEMHDE1Aw"
   },
   "outputs": [
    {
     "name": "stdout",
     "output_type": "stream",
     "text": [
      "4\n",
      "blue\n",
      "Not blue\n"
     ]
    }
   ],
   "source": [
    "# Method 1:\n",
    "class Car_3:\n",
    "    # Constant \n",
    "    engine = '4.7L'\n",
    "    \n",
    "    def __init__(self, wheels):\n",
    "        self.wheels = wheels \n",
    "        self.color = 'blue' # Default constant attribute\n",
    "        \n",
    "        \n",
    "honda = Car_3(4)\n",
    "kenmore = Car_3(16)\n",
    "kenmore.color = 'Not blue'\n",
    "print(honda.wheels)\n",
    "print(honda.color)\n",
    "print(kenmore.color)"
   ]
  },
  {
   "cell_type": "code",
   "execution_count": 41,
   "metadata": {},
   "outputs": [
    {
     "name": "stdout",
     "output_type": "stream",
     "text": [
      "9999999 blue\n"
     ]
    }
   ],
   "source": [
    "# Method 2:\n",
    "class Car_4:\n",
    "    # Constant\n",
    "    engine = '4.7L'\n",
    "    \n",
    "    def __init__(self, wheels, color = 'blue'):\n",
    "        self.wheels = wheels \n",
    "        self.color = color\n",
    "        \n",
    "honda = Car_4(9999999, 'Not blue')\n",
    "print(honda.wheels, honda.color)"
   ]
  },
  {
   "cell_type": "markdown",
   "metadata": {
    "id": "P7zeGxM0E1Aw"
   },
   "source": [
    "##### Changing Class Attributes <br>\n",
    "<p>Keep in mind there are global class attributes and then there are attributes only available to each class instance which won't effect other classes.</p>"
   ]
  },
  {
   "cell_type": "code",
   "execution_count": 44,
   "metadata": {
    "id": "PJBegn_JE1Aw"
   },
   "outputs": [
    {
     "name": "stdout",
     "output_type": "stream",
     "text": [
      "Before changing color: Not blue\n",
      "After Change: Green\n"
     ]
    }
   ],
   "source": [
    "honda = Car_4(9999999, 'Not blue')\n",
    "print(f'Before changing color: {honda.color}')\n",
    "\n",
    "'''\n",
    "Call the class object\n",
    "Use dot notation to access the attribute\n",
    "Name the attribute\n",
    "Set it equal to a value\n",
    "'''\n",
    "\n",
    "honda.color = 'Green'\n",
    "\n",
    "print(f'After Change: {honda.color}')"
   ]
  },
  {
   "cell_type": "markdown",
   "metadata": {
    "id": "dUUbmR3SE1Aw"
   },
   "source": [
    "##### In-Class Exercise #2 - Add a doors and seats attribute to your 'Car' class then print out two different instances with different doors and seats"
   ]
  },
  {
   "cell_type": "code",
   "execution_count": 57,
   "metadata": {
    "id": "ol8-7dFJE1Aw"
   },
   "outputs": [
    {
     "name": "stdout",
     "output_type": "stream",
     "text": [
      "4 False 26.67 TPMS\n",
      "['__class__', '__delattr__', '__dict__', '__dir__', '__doc__', '__eq__', '__format__', '__ge__', '__getattribute__', '__gt__', '__hash__', '__init__', '__init_subclass__', '__le__', '__lt__', '__module__', '__ne__', '__new__', '__reduce__', '__reduce_ex__', '__repr__', '__setattr__', '__sizeof__', '__str__', '__subclasshook__', '__weakref__', 'accessories', 'avg_mpg', 'comes_with_spare', 'doors', 'seats', 'speed', 'tires']\n",
      "Help on Vehicle in module __main__ object:\n",
      "\n",
      "class Vehicle(builtins.object)\n",
      " |  Vehicle(total_gas_compacity_in_gal, avg_highway_cons, avg_city_cons, doors: int = 4, seats: int = 4)\n",
      " |  \n",
      " |  Methods defined here:\n",
      " |  \n",
      " |  __init__(self, total_gas_compacity_in_gal, avg_highway_cons, avg_city_cons, doors: int = 4, seats: int = 4)\n",
      " |      Initialize self.  See help(type(self)) for accurate signature.\n",
      " |  \n",
      " |  ----------------------------------------------------------------------\n",
      " |  Data descriptors defined here:\n",
      " |  \n",
      " |  __dict__\n",
      " |      dictionary for instance variables (if defined)\n",
      " |  \n",
      " |  __weakref__\n",
      " |      list of weak references to the object (if defined)\n",
      " |  \n",
      " |  ----------------------------------------------------------------------\n",
      " |  Data and other attributes defined here:\n",
      " |  \n",
      " |  accessories = 'TPMS'\n",
      " |  \n",
      " |  comes_with_spare = False\n",
      " |  \n",
      " |  speed = '30MPH'\n",
      " |  \n",
      " |  tires = 4\n",
      "\n"
     ]
    },
    {
     "data": {
      "text/plain": [
       "None"
      ]
     },
     "metadata": {},
     "output_type": "display_data"
    }
   ],
   "source": [
    "# Jeep seats: 4 and Jeep doors: 4\n",
    "# Honda seats: 2 and Honda doors: 2\n",
    "\n",
    "class Vehicle:\n",
    "    # Constant attribute\n",
    "    speed = '30MPH'\n",
    "    accessories = 'TPMS'\n",
    "    tires = 4\n",
    "    comes_with_spare = False\n",
    "    def __init__(self, total_gas_compacity_in_gal, \n",
    "                 avg_highway_cons, avg_city_cons,\n",
    "                 doors: int = 4, seats: int =4):\n",
    "        self.doors = doors\n",
    "        self.seats = seats\n",
    "        self.avg_mpg = round(total_gas_compacity_in_gal / (avg_city_cons/avg_highway_cons),2)\n",
    "           \n",
    "        \n",
    "honda = Vehicle(11, 42,32,2,2)\n",
    "jeep = Vehicle(16, 20, 12)\n",
    "\n",
    "# print(f'Jeep seats: {jeep.seats} and Jeep doors: {jeep.doors} and max speed: {jeep.speed}')\n",
    "print(jeep.tires, jeep.comes_with_spare, jeep.avg_mpg, jeep.accessories)\n",
    "# print(f'Honda seats: {honda.seats} and Honda doors: {honda.doors}')\n",
    "print(dir(honda))\n",
    "display(help(honda))"
   ]
  },
  {
   "cell_type": "markdown",
   "metadata": {
    "id": "fIN43CNqE1Aw"
   },
   "source": [
    "## Class Methods <br>\n",
    "<p>While inside of a class, functions are referred to as 'methods'. If you hear someone mention methods, they're speaking about classes. Methods are essentially functions, but only callable on the instances of a class.</p>"
   ]
  },
  {
   "cell_type": "markdown",
   "metadata": {
    "id": "C4t23Xw-E1Aw"
   },
   "source": [
    "##### Creating"
   ]
  },
  {
   "cell_type": "code",
   "execution_count": 1,
   "metadata": {
    "id": "nxJWEyQeE1Ax"
   },
   "outputs": [],
   "source": [
    "class ShoppingBag:\n",
    "    \"\"\"\n",
    "    The shoppingbag class will have handles, capacity, and items\n",
    "    to place inside.\n",
    "    \n",
    "    The attributes for this class:\n",
    "        - Handles: INT value\n",
    "        - Capacity: str or int\n",
    "        - Items: expected to be a list\n",
    "        \n",
    "    The methods that we will attach to the class will be:\n",
    "        -Show: show what is in the bag\n",
    "        - ShowCapacity: Shopping bag capacity, with items in it currently\n",
    "        - Change Capacity:Change overall capacity of the shopping bag\n",
    "        - Increase Capacity: Increase the overall capacity\n",
    "        - Decrease Capacity: Decreases the overall capacity\n",
    "        - Add items: adds items to shopping bag\n",
    "        \n",
    "    \"\"\"\n",
    "    def __init__(self, handles: int, capacity: int or str, items: list = []):\n",
    "        # We set the attributes of the class to the input of the user.\n",
    "        self.handels = handles\n",
    "        self.capacity = capacity\n",
    "        self.items = items\n",
    "        \n",
    "    # Method that shows the ShoppingBag items\n",
    "    def show_shopping_bag(self):\n",
    "        print('You Have items in your bag!!!')\n",
    "        for item in self.items:\n",
    "            print(item)\n",
    "    \n",
    "    # Method to show the total capacity of the bag\n",
    "    def show_capacity(self):\n",
    "        print(f'Your capacity is: {self.capacity}')\n",
    "        \n",
    "    # Method to change the capacity of the bag (dynamically)\n",
    "    def change_bag_compacity(self, capacity: int or str):\n",
    "        self.capacity = capacity\n",
    "    \n",
    "    \n",
    "    # Method of changing capacity (static)\n",
    "    def increase_capacity(self, amount_changed: int or str):\n",
    "        if self.capacity == isinstance(self.capacity, str):\n",
    "            try:\n",
    "                self.capacity += int(amount_changed) \n",
    "            except:\n",
    "                print(\"I cannot add together a string and integer value\")\n",
    "        else:\n",
    "            self.capacity += amount_changed\n",
    "            \n",
    "    def decrease_capacity(self, amount_changed: int or str):\n",
    "        if self.capacity == isinstance(self.capacity, str):\n",
    "            try: \n",
    "                self.capacity += int(amount_changed)\n",
    "            except:\n",
    "                print(\" I cannot add together a integer value and a string value\")\n",
    "        else:\n",
    "            self.capacity -= amount_changed\n",
    "            \n",
    "    # Method to add items to shopping bag        \n",
    "    def add_items(self):\n",
    "        products = input(\"What would you like to add?\")\n",
    "        self.items.append(products)"
   ]
  },
  {
   "cell_type": "markdown",
   "metadata": {
    "id": "kJ4mLPg5E1Ax"
   },
   "source": [
    "##### Calling"
   ]
  },
  {
   "cell_type": "code",
   "execution_count": 2,
   "metadata": {
    "id": "D_I5p-aTE1Ax"
   },
   "outputs": [
    {
     "name": "stdout",
     "output_type": "stream",
     "text": [
      "You Have items in your bag!!!\n",
      "banana\n",
      "You Have items in your bag!!!\n",
      "banana\n",
      "Thanks for shopping!\n"
     ]
    }
   ],
   "source": [
    "trader_joes_bag = ShoppingBag(2,10)\n",
    "\n",
    "# Create a function to run the shopping_bag\n",
    "\n",
    "def run():\n",
    "    while True:\n",
    "        response = input('What do you want to do? Add/Show/or Quit')\n",
    "        \n",
    "        if response.lower() == 'quit':\n",
    "            trader_joes_bag.show_shopping_bag()\n",
    "            print('Thanks for shopping!')\n",
    "            break\n",
    "        \n",
    "        elif response.lower() == 'add':\n",
    "            trader_joes_bag.add_items()\n",
    "            \n",
    "        elif response.lower() == 'show':\n",
    "            trader_joes_bag.show_shopping_bag()\n",
    "            \n",
    "run()"
   ]
  },
  {
   "cell_type": "markdown",
   "metadata": {
    "id": "0ZllA5keE1Ax"
   },
   "source": [
    "##### Modifying an Attribute's Value Through a Method"
   ]
  },
  {
   "cell_type": "code",
   "execution_count": 67,
   "metadata": {
    "id": "jT_iOoUcE1Ax"
   },
   "outputs": [
    {
     "name": "stdout",
     "output_type": "stream",
     "text": [
      "Your capacity is: 10\n",
      "Capacity AFTER the change...\n",
      "Your capacity is: 40\n"
     ]
    }
   ],
   "source": [
    "trader_joes_bag.show_capacity()\n",
    "print('Capacity AFTER the change...')\n",
    "trader_joes_bag.change_bag_compacity(40)\n",
    "trader_joes_bag.show_capacity()"
   ]
  },
  {
   "cell_type": "markdown",
   "metadata": {
    "id": "pV9obOHAE1Ax"
   },
   "source": [
    "##### Incrementing an Attribute's Value Through a Method"
   ]
  },
  {
   "cell_type": "code",
   "execution_count": 69,
   "metadata": {
    "id": "-usVaZplE1Ax"
   },
   "outputs": [
    {
     "name": "stdout",
     "output_type": "stream",
     "text": [
      "Your capacity is: 50\n",
      "After increase in size...\n",
      "Your capacity is: 60\n",
      "Your capacity is: 60\n",
      "After decreasing the size...\n",
      "Your capacity is: 50\n"
     ]
    }
   ],
   "source": [
    "# Method of adding\n",
    "trader_joes_bag.show_capacity()\n",
    "print(\"After increase in size...\")\n",
    "trader_joes_bag.increase_capacity(10)\n",
    "trader_joes_bag.show_capacity()\n",
    "\n",
    "# Method of removing\n",
    "trader_joes_bag.show_capacity()\n",
    "print(\"After decreasing the size...\")\n",
    "trader_joes_bag.decrease_capacity(10)\n",
    "trader_joes_bag.show_capacity()"
   ]
  },
  {
   "cell_type": "markdown",
   "metadata": {
    "id": "d5P9d_B7E1Ax"
   },
   "source": [
    "##### In-Class Exercise #3 - Add a method that takes in three parameters of year, doors and seats and prints out a formatted print statement with make, model, year, seats, and doors"
   ]
  },
  {
   "cell_type": "code",
   "execution_count": 71,
   "metadata": {
    "id": "u5Tjs1foE1Ax"
   },
   "outputs": [
    {
     "name": "stdout",
     "output_type": "stream",
     "text": [
      "This car is from 2015 and is a Ford Focus and has 5 doors and 4 seats\n"
     ]
    }
   ],
   "source": [
    "# Create class with 2 paramters inside of the __init__ which are make and model\n",
    "class Car:\n",
    "    def __init__(self, make, model):\n",
    "        self.make = make\n",
    "        self.model = model\n",
    "        \n",
    "    # Inside of the Car class create a method that has 4 parameter in total (self,year,door,seats)\n",
    "    # Output: This car is from 2019 and is a Ford Expolorer and has 4 doors and 5 seats\n",
    "    def add_details(self, year, doors, seats):\n",
    "        self.year = year\n",
    "        self.doors = doors\n",
    "        self.seats = seats\n",
    "        print(f'This car is from {self.year} and is a {self.make} {self.model} and has {self.doors} doors and {self.seats} seats')\n",
    "        \n",
    "    \n",
    "my_car = Car('Ford', \"Focus\")\n",
    "my_car.add_details(2015, 5, 4)\n"
   ]
  },
  {
   "attachments": {},
   "cell_type": "markdown",
   "metadata": {},
   "source": [
    "### Class Inheritance"
   ]
  },
  {
   "attachments": {},
   "cell_type": "markdown",
   "metadata": {},
   "source": [
    "When we program in OOP(Object Oriented Programming), we create classes that encompass the entirety of a group or populous. For example, car. Cars come in many shapes and forms, however, we are generalizing each into a class named car, based off of attributes and methods that are similar. What happens when we have something that is technically a car, but is so unique, it should have it's own class, with it's own attributes and methods, yet still retain information that it is a car?\n",
    "\n",
    "This is where inheritance comes into play. Just like how we inherit features and attributes from our parents (skin tone, eye shape, body composition), we can have classes inherit from one another. When we talk about inheritance, we typically talk about a child class and a parent class, where the parent class is the class giving attributes and the child class is the one inheriting those attributes.\n",
    "\n",
    "There are multiple types of inheritance:\n",
    "\n",
    "* **Single Inheritance**\n",
    "    * One child-class inherits the features of one parent-class\n",
    "    \n",
    "    ![](https://www.softwaretestinghelp.com/wp-content/qa/uploads/2019/06/Single-inheritance.png)"
   ]
  },
  {
   "cell_type": "code",
   "execution_count": 84,
   "metadata": {},
   "outputs": [
    {
     "name": "stdout",
     "output_type": "stream",
     "text": [
      "electric\n",
      "This is an electric car...\n",
      "4\n",
      "4\n"
     ]
    }
   ],
   "source": [
    "# Single Inheritance\n",
    "# Base class/ Parent class\n",
    "class Car:\n",
    "    engine = 'gas'\n",
    "    \n",
    "    def __init__(self):\n",
    "        self.wheels = 4\n",
    "        self.doors = 4\n",
    "        \n",
    "    def honk(self):\n",
    "        return \"HOOOOOONK\"\n",
    "    \n",
    "# Child Class/ Derived class\n",
    "class ElectricCar(Car):\n",
    "    engine = 'electric'\n",
    "    \n",
    "    def honk(self):\n",
    "        return 'This is an electric car...'\n",
    "c = ElectricCar()\n",
    "\n",
    "# Attributes and methods we have changed\n",
    "print(c.engine)\n",
    "print(c.honk())\n",
    "\n",
    "# Attributes we didnt!\n",
    "print(c.wheels)\n",
    "print(c.doors)"
   ]
  },
  {
   "attachments": {},
   "cell_type": "markdown",
   "metadata": {},
   "source": [
    "* **Multiple Inheritance**\n",
    "    * One child-class inherits from from multiple parent-classes\n",
    "\n",
    "    ![](https://media.geeksforgeeks.org/wp-content/uploads/sc1-1.png)"
   ]
  },
  {
   "cell_type": "code",
   "execution_count": 86,
   "metadata": {},
   "outputs": [
    {
     "name": "stdout",
     "output_type": "stream",
     "text": [
      "In Class 4\n",
      "In Class 2\n",
      "In Class 3\n",
      "In Class 1\n"
     ]
    }
   ],
   "source": [
    "# Multiple Inheritance\n",
    "class Class1:\n",
    "    def m(self):\n",
    "        print(\"In Class 1\")\n",
    "\n",
    "class Class2(Class1):\n",
    "    def m(self):\n",
    "        print(\"In Class 2\")\n",
    "        super().m()\n",
    "\n",
    "class Class3(Class1):\n",
    "    def m(self):\n",
    "        print(\"In Class 3\")\n",
    "        super().m()\n",
    "        \n",
    "class Class4(Class2, Class3):\n",
    "    def m(self):\n",
    "        print(\"In Class 4\")\n",
    "        super().m()\n",
    "        \n",
    "o = Class4()\n",
    "o.m()"
   ]
  },
  {
   "attachments": {},
   "cell_type": "markdown",
   "metadata": {},
   "source": [
    "* **Multi-level Inheritance**\n",
    "    * A base class provides inheritance to a parent class, which provides inheritance to a child class, just like lineage is passed down from generation to generation\n",
    "    * This allows the child class to be derived of the base, without ever accessing the base class.\n",
    "\n",
    "     ![](https://upload.wikimedia.org/wikipedia/en/0/0e/Multilevel_Inheritance.jpg)"
   ]
  },
  {
   "cell_type": "code",
   "execution_count": 87,
   "metadata": {},
   "outputs": [
    {
     "name": "stdout",
     "output_type": "stream",
     "text": [
      "Designation: Teacher\n",
      "None\n",
      "Salary: $10000\n",
      "None\n",
      "Employee Name: Alex\n",
      "None\n"
     ]
    }
   ],
   "source": [
    "# Multilevel Inheritance\n",
    "class Employees:\n",
    "    def name(self):\n",
    "        print('Employee Name: Alex')\n",
    "    \n",
    "class Salary(Employees):\n",
    "    def salary(self):\n",
    "        print(\"Salary: $10000\")\n",
    "\n",
    "class Designation(Salary):\n",
    "    def design(self):\n",
    "        print(\"Designation: Teacher\")\n",
    "        \n",
    "fun = Designation()\n",
    "print(fun.design())\n",
    "print(fun.salary())\n",
    "print(fun.name())"
   ]
  },
  {
   "cell_type": "code",
   "execution_count": null,
   "metadata": {},
   "outputs": [],
   "source": []
  }
 ],
 "metadata": {
  "colab": {
   "provenance": [
    {
     "file_id": "1wDmopKqYDjbH4FtK1wEWVsTIdqRGRJYq",
     "timestamp": 1675696515120
    }
   ]
  },
  "kernelspec": {
   "display_name": "Python 3 (ipykernel)",
   "language": "python",
   "name": "python3"
  },
  "language_info": {
   "codemirror_mode": {
    "name": "ipython",
    "version": 3
   },
   "file_extension": ".py",
   "mimetype": "text/x-python",
   "name": "python",
   "nbconvert_exporter": "python",
   "pygments_lexer": "ipython3",
   "version": "3.11.2"
  },
  "vscode": {
   "interpreter": {
    "hash": "26de051ba29f2982a8de78e945f0abaf191376122a1563185a90213a26c5da77"
   }
  }
 },
 "nbformat": 4,
 "nbformat_minor": 1
}
