{
 "cells": [
  {
   "attachments": {},
   "cell_type": "markdown",
   "metadata": {},
   "source": [
    "# Parking Garage Project\n",
    "\n",
    "Your assignment for today is to create a parking garage class to get more familiar with Object Oriented Programming(OOP). \n",
    "\n",
    "Your parking gargage class should have the following methods:\n",
    "- take_ticket\n",
    "   - This should decrease the amount of tickets available by 1\n",
    "   - This should decrease the amount of parking_spaces available by 1\n",
    "- pay_for_parking\n",
    "   - Display an input that waits for an amount from the user and store it in a variable\n",
    "   - If the payment variable is not empty then ->  display a message to the user that their ticket has been paid and they have 15mins to leave\n",
    "   - This should update the \"current_ticket\" dictionary key \"paid\" to True\n",
    "-leave_garage\n",
    "   - If the ticket has been paid, display a message of \"Thank You, have a nice day\"\n",
    "   - If the ticket has not been paid, display an input prompt for payment\n",
    "      - Once paid, display message \"Thank you, have a nice day!\"\n",
    "   - Update parking_spaces list to increase by 1\n",
    "   - Update tickets list to increase by 1\n",
    "\n",
    "You will need a few attributes as well:\n",
    "- tickets -> list\n",
    "- parking_spaces -> list\n",
    "- current_ticket -> dictionary"
   ]
  },
  {
   "cell_type": "code",
   "execution_count": 2,
   "metadata": {},
   "outputs": [
    {
     "name": "stdout",
     "output_type": "stream",
     "text": [
      "Your ticket number is 1.\n",
      "Invalid ticket number.\n",
      "Thank you, have a nice day!\n"
     ]
    }
   ],
   "source": [
    "class ParkingGarage:\n",
    "    \n",
    "    def __init__(self, tickets, parking_spaces, current_ticket):\n",
    "        self.tickets = tickets\n",
    "        self.parking_spaces = parking_spaces\n",
    "        self.current_ticket = current_ticket\n",
    "        \n",
    "    def take_ticket(self):\n",
    "        if self.tickets:\n",
    "            ticket = self.tickets.pop(0)\n",
    "            self.parking_spaces.pop(0)\n",
    "            self.current_ticket[ticket] = {'paid': False}\n",
    "            print(f\"Your ticket number is {ticket}.\")\n",
    "        else:\n",
    "            print(\"Sorry, there are no available tickets.\")\n",
    "    \n",
    "    def pay_for_parking(self):\n",
    "        ticket = input(\"Please enter your ticket number: \")\n",
    "        if self.current_ticket.get(ticket):\n",
    "            if not self.current_ticket[ticket]['paid']:\n",
    "                payment = input(\"Please enter your payment amount: \")\n",
    "                if payment:\n",
    "                    self.current_ticket[ticket]['paid'] = True\n",
    "                    print(\"Your ticket has been paid. You have 15 minutes to leave.\")\n",
    "                else:\n",
    "                    print(\"Payment cannot be empty.\")\n",
    "            else:\n",
    "                print(\"This ticket has already been paid.\")\n",
    "        else:\n",
    "            print(\"Invalid ticket number.\")\n",
    "    \n",
    "    def leave_garage(self):\n",
    "        ticket = input(\"Please enter your ticket number: \")\n",
    "        if self.current_ticket.get(ticket):\n",
    "            if self.current_ticket[ticket]['paid']:\n",
    "                del self.current_ticket[ticket]\n",
    "                self.parking_spaces.append(None)\n",
    "                self.tickets.append(ticket)\n",
    "                print(\"Thank you, have a nice day!\")\n",
    "            else:\n",
    "                payment = input(\"Please enter your payment amount: \")\n",
    "                if payment:\n",
    "                    self.current_ticket[ticket]['paid'] = True\n",
    "                    del self.current_ticket[ticket]\n",
    "                    self.parking_spaces.append(None)\n",
    "                    self.tickets.append(ticket)\n",
    "                    print(\"Thank you, have a nice day!\")\n",
    "                else:\n",
    "                    print(\"Payment cannot be empty.\")\n",
    "        else:\n",
    "            print(\"Invalid ticket number.\")\n",
    "          \n",
    "\n",
    "# Example usage:\n",
    "parking_garage = ParkingGarage(['1', '2', '3', '4', '5'], [1, 2, 3, 4, 5], {})\n",
    "\n",
    "parking_garage.take_ticket()\n",
    "parking_garage.pay_for_parking()\n",
    "parking_garage.leave_garage()"
   ]
  }
 ],
 "metadata": {
  "kernelspec": {
   "display_name": "Python 3",
   "language": "python",
   "name": "python3"
  },
  "language_info": {
   "codemirror_mode": {
    "name": "ipython",
    "version": 3
   },
   "file_extension": ".py",
   "mimetype": "text/x-python",
   "name": "python",
   "nbconvert_exporter": "python",
   "pygments_lexer": "ipython3",
   "version": "3.11.2"
  }
 },
 "nbformat": 4,
 "nbformat_minor": 2
}
