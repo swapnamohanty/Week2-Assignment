{
 "cells": [
  {
   "attachments": {},
   "cell_type": "markdown",
   "metadata": {},
   "source": [
    "# Coding Temple's Data Analytics Program\n",
    "---\n",
    "## Python Basics Assignment 3\n",
    "---"
   ]
  },
  {
   "attachments": {},
   "cell_type": "markdown",
   "metadata": {},
   "source": [
    "### **Task 1: Build a Shopping Cart**\n",
    "**You can use either lists or dictionaries. The program should have the following capabilites:**\n",
    "* Takes a string as an input\n",
    "* Stores user input in a dictionary or list\n",
    "* Users should be able to:\n",
    "    * Add Items\n",
    "    * Delete Items\n",
    "    * See current shopping cart\n",
    "* The program should loop until user 'quits'\n",
    "* Upon quitting the program, print out all items in the user's list"
   ]
  },
  {
   "cell_type": "code",
   "execution_count": 23,
   "metadata": {},
   "outputs": [
    {
     "name": "stdout",
     "output_type": "stream",
     "text": [
      "banana : 6\n",
      "orange : 6\n",
      "shopping is done\n"
     ]
    }
   ],
   "source": [
    "from IPython.display import clear_output\n",
    "\n",
    "# Ask the user 5 bits of input: Do you want to : Show/Add/Delete/clear or Quit?\n",
    "# YOUR CODE HERE\n",
    "shopping_cart = {}\n",
    "option = int(input(\"Enter an option: \"))\n",
    "while True:\n",
    "\tif option == 1:\n",
    "\t\titem = input(\"Enter an item: \")\n",
    "\t\tquanty=int(input(\"Enter the quantity: \"))\n",
    "\t\tshopping_cart[item] = quanty\n",
    "\telif option == 2:\n",
    "\t\titem = \tinput(\"Enter an item: \")\n",
    "\t\tdel shopping_cart[item]\n",
    "\telif option == 3:\n",
    "\t\tfor item in shopping_cart:\n",
    "\t\t\tprint(item,\":\",shopping_cart[item])\n",
    "\telif option == 0:\n",
    "\t\tprint(\"shopping is done\")\n",
    "\t\tbreak\n",
    "\telse:\n",
    "\t\tprint(\"invalid option\")\n",
    "\toption = int(input(\"\\n\\nEnter an option: \"))"
   ]
  },
  {
   "attachments": {},
   "cell_type": "markdown",
   "metadata": {},
   "source": [
    "### **Task 2: Create a Module and Import it**\n",
    "Create a Module in VS Code and import it into a Jupyter Notebook. \n",
    "\n",
    "**Your module should have the following capabilities:**\n",
    "* Has a function to calculate the square footage of a house\n",
    "* Has a function to calculate the circumference of a circle\n",
    "* Has a function to change feet to inches\n",
    "\n",
    "The program in Jupyter Notebook should take in user input and use the imported functions for their calculations!"
   ]
  },
  {
   "cell_type": "code",
   "execution_count": 6,
   "metadata": {},
   "outputs": [
    {
     "name": "stdout",
     "output_type": "stream",
     "text": [
      "Square Footage of House: 110 sq.ft\n",
      "Circumferenece of Circle: 18.84955592153876 inch\n",
      "Inch :60\n"
     ]
    }
   ],
   "source": [
    "import module\n",
    "print(module.sqr_foot(11,10))\n",
    "print(module.findCircum(3))\n",
    "print(module.feet_inch(5))\n"
   ]
  },
  {
   "attachments": {},
   "cell_type": "markdown",
   "metadata": {},
   "source": [
    "### **Task 3.1: Lists**\n",
    "Create 4 lists. Two of these lists should be keys, two of these lists should be values"
   ]
  },
  {
   "cell_type": "code",
   "execution_count": 7,
   "metadata": {},
   "outputs": [],
   "source": [
    "Name = [\"Satwik\",\"Isita\",\"Vihan\",\"Josh\"]\n",
    "Food = [\"pizza\",\"sandwich\",\"wrap\",\"nuggets\"]\n",
    "Place = [\"Chicago\",\"London\",\"Mumbai\",\"Sydney\"]\n",
    "Country = [\"USA\",\"England\", \"India\", \"Australia\"]"
   ]
  },
  {
   "attachments": {},
   "cell_type": "markdown",
   "metadata": {},
   "source": [
    "### **Task 3.2: Create a function that converts two lists into a dictionary, then merges two dictionaries into one.**\n",
    "\n",
    "Using your 4 lists, create a function which combines the keys lists with the values lists into a dictionary, then merges and returns the two dictionaries together."
   ]
  },
  {
   "cell_type": "code",
   "execution_count": 8,
   "metadata": {},
   "outputs": [
    {
     "data": {
      "text/plain": [
       "{'Satwik': 'pizza',\n",
       " 'Isita': 'sandwich',\n",
       " 'Vihan': 'wrap',\n",
       " 'Josh': 'nuggets',\n",
       " 'Chicago': 'USA',\n",
       " 'London': 'England',\n",
       " 'Mumbai': 'India',\n",
       " 'Sydney': 'Australia'}"
      ]
     },
     "execution_count": 8,
     "metadata": {},
     "output_type": "execute_result"
    }
   ],
   "source": [
    "def merge_dict(Name,Food,Place,Country):\n",
    "    dict1 = {Name[i]: Food[i] for i in range(len(Name))}\n",
    "    dict2 = {Place[i]:Country[i] for i in range(len(Place))}\n",
    "    dict3 = (dict1|dict2)\n",
    "    return dict3\n",
    "merge_dict(Name,Food,Place,Country) \n",
    " "
   ]
  }
 ],
 "metadata": {
  "kernelspec": {
   "display_name": "Python 3",
   "language": "python",
   "name": "python3"
  },
  "language_info": {
   "codemirror_mode": {
    "name": "ipython",
    "version": 3
   },
   "file_extension": ".py",
   "mimetype": "text/x-python",
   "name": "python",
   "nbconvert_exporter": "python",
   "pygments_lexer": "ipython3",
   "version": "3.9.13"
  },
  "orig_nbformat": 4,
  "vscode": {
   "interpreter": {
    "hash": "26de051ba29f2982a8de78e945f0abaf191376122a1563185a90213a26c5da77"
   }
  }
 },
 "nbformat": 4,
 "nbformat_minor": 2
}
